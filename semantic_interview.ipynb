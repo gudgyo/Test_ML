{
  "nbformat": 4,
  "nbformat_minor": 0,
  "metadata": {
    "colab": {
      "name": "semantic_interview.ipynb",
      "provenance": [],
      "collapsed_sections": [],
      "mount_file_id": "1V50Qq9Mkfc9VmRU9dAjCLOz8hmqBviA-",
      "authorship_tag": "ABX9TyOe8IVT2I1ohxqwN5lYUUmu",
      "include_colab_link": true
    },
    "kernelspec": {
      "name": "python3",
      "display_name": "Python 3"
    }
  },
  "cells": [
    {
      "cell_type": "markdown",
      "metadata": {
        "id": "view-in-github",
        "colab_type": "text"
      },
      "source": [
        "<a href=\"https://colab.research.google.com/github/gudgyo/Test_ML/blob/main/semantic_interview.ipynb\" target=\"_parent\"><img src=\"https://colab.research.google.com/assets/colab-badge.svg\" alt=\"Open In Colab\"/></a>"
      ]
    },
    {
      "cell_type": "code",
      "metadata": {
        "id": "jLhsG6lFj94y",
        "colab": {
          "base_uri": "https://localhost:8080/"
        },
        "outputId": "dc68b6ac-d018-40d3-af05-9d55ac140c29"
      },
      "source": [
        "%tensorflow_version 2.x #because of notebook\r\n",
        "!pip install gensim\r\n",
        "!pip install nltk"
      ],
      "execution_count": 1,
      "outputs": [
        {
          "output_type": "stream",
          "text": [
            "`%tensorflow_version` only switches the major version: 1.x or 2.x.\n",
            "You set: `2.x #because of notebook`. This will be interpreted as: `2.x`.\n",
            "\n",
            "\n",
            "TensorFlow 2.x selected.\n",
            "Requirement already satisfied: gensim in /usr/local/lib/python3.6/dist-packages (3.6.0)\n",
            "Requirement already satisfied: smart-open>=1.2.1 in /usr/local/lib/python3.6/dist-packages (from gensim) (4.0.1)\n",
            "Requirement already satisfied: scipy>=0.18.1 in /usr/local/lib/python3.6/dist-packages (from gensim) (1.4.1)\n",
            "Requirement already satisfied: numpy>=1.11.3 in /usr/local/lib/python3.6/dist-packages (from gensim) (1.18.5)\n",
            "Requirement already satisfied: six>=1.5.0 in /usr/local/lib/python3.6/dist-packages (from gensim) (1.15.0)\n",
            "Requirement already satisfied: nltk in /usr/local/lib/python3.6/dist-packages (3.2.5)\n",
            "Requirement already satisfied: six in /usr/local/lib/python3.6/dist-packages (from nltk) (1.15.0)\n"
          ],
          "name": "stdout"
        }
      ]
    },
    {
      "cell_type": "code",
      "metadata": {
        "id": "MIP2jIuskAAV",
        "colab": {
          "base_uri": "https://localhost:8080/"
        },
        "outputId": "c6919dee-8ff0-4c59-f053-2202ebd0f6fe"
      },
      "source": [
        "import tensorflow as tf\r\n",
        "import pandas as pd\r\n",
        "import numpy as np\r\n",
        "from numpy import dot\r\n",
        "from numpy.linalg import norm\r\n",
        "import re\r\n",
        "import nltk\r\n",
        "from keras.preprocessing.text import Tokenizer\r\n",
        "from nltk.stem import WordNetLemmatizer\r\n",
        "import numpy as np\r\n",
        "\r\n",
        "from gensim.models.wrappers import FastText\r\n",
        "from gensim.models import Word2Vec, KeyedVectors\r\n",
        "\r\n",
        "from sklearn.metrics.pairwise import cosine_similarity\r\n",
        "\r\n",
        "nltk.download('punkt')"
      ],
      "execution_count": 2,
      "outputs": [
        {
          "output_type": "stream",
          "text": [
            "[nltk_data] Downloading package punkt to /root/nltk_data...\n",
            "[nltk_data]   Unzipping tokenizers/punkt.zip.\n"
          ],
          "name": "stdout"
        },
        {
          "output_type": "execute_result",
          "data": {
            "text/plain": [
              "True"
            ]
          },
          "metadata": {
            "tags": []
          },
          "execution_count": 2
        }
      ]
    },
    {
      "cell_type": "code",
      "metadata": {
        "id": "jbJ6kXwrskbN"
      },
      "source": [
        "#dataset into pandas dataframe\r\n",
        "train = pd.read_csv(\"https://drive.google.com/uc?export=download&id=1ksEJ5lodwquCoQ5AcnijNs6ndof276_Z\")"
      ],
      "execution_count": 4,
      "outputs": []
    },
    {
      "cell_type": "code",
      "metadata": {
        "id": "YbgdGfpCH2Lm"
      },
      "source": [
        "def preprocess(sentence):\r\n",
        "  #remove special characters\r\n",
        "  sentence = re.sub(r'\\W', ' ',str(sentence))\r\n",
        "  #converting to lower case\r\n",
        "  sentence = sentence.lower()\r\n",
        "  #switching multiple spaces with single\r\n",
        "  sentence = re.sub(' +', ' ',sentence)\r\n",
        "  #removes space from end\r\n",
        "  sentence = re.sub(' $', '', sentence)\r\n",
        "\r\n",
        "  return sentence"
      ],
      "execution_count": 5,
      "outputs": []
    },
    {
      "cell_type": "code",
      "metadata": {
        "id": "t9T8ob--Pz39"
      },
      "source": [
        "train_question1 = [preprocess(sent) for sent in train['question1']]\r\n",
        "train_question2 = [preprocess(sent) for sent in train['question2']]\r\n",
        "train_input = train_question1 + train_question2"
      ],
      "execution_count": 6,
      "outputs": []
    },
    {
      "cell_type": "code",
      "metadata": {
        "id": "UPHysnnGVWAu"
      },
      "source": [
        "train_vec = [nltk.word_tokenize(sent) for sent in train_input]"
      ],
      "execution_count": 7,
      "outputs": []
    },
    {
      "cell_type": "code",
      "metadata": {
        "id": "5YgJITYr5ZpV"
      },
      "source": [
        "window_size = 9\r\n",
        "min = 1\r\n",
        "model_size=100"
      ],
      "execution_count": 8,
      "outputs": []
    },
    {
      "cell_type": "code",
      "metadata": {
        "id": "bASrxcMOU-ad"
      },
      "source": [
        "model = Word2Vec(train_vec, window=window_size, min_count=min, size=model_size)"
      ],
      "execution_count": 9,
      "outputs": []
    },
    {
      "cell_type": "code",
      "metadata": {
        "id": "lUtOCMX7nTG9"
      },
      "source": [
        "#gives the mean of a single input sentence\r\n",
        "def mean_pool(sentence):\r\n",
        "  sentence = preprocess(sentence).split(' ')\r\n",
        "\r\n",
        "  #same as model size parameter\r\n",
        "  sentence_mean = [0]*model_size\r\n",
        "\r\n",
        "  for word in sentence:\r\n",
        "    #avoid word not in vocab error\r\n",
        "    if word in model.wv.vocab:\r\n",
        "      sentence_mean += model.wv[word] \r\n",
        "  sentence_mean /= len(sentence)\r\n",
        "\r\n",
        "  return sentence_mean"
      ],
      "execution_count": 10,
      "outputs": []
    },
    {
      "cell_type": "code",
      "metadata": {
        "id": "prq7VmSy4hwV"
      },
      "source": [
        "#inner product\r\n",
        "def compare_inner(sentence1, sentence2):\r\n",
        "  sentence1 = mean_pool(sentence1)\r\n",
        "  sentence2 = mean_pool(sentence2)\r\n",
        "\r\n",
        "  return np.inner(sentence1, sentence2)"
      ],
      "execution_count": 11,
      "outputs": []
    },
    {
      "cell_type": "code",
      "metadata": {
        "id": "J6JVlvCw-rQV"
      },
      "source": [
        "#cosine similarity\r\n",
        "def compare_cosine(sentence1, sentence2):\r\n",
        "  a = mean_pool(sentence1)\r\n",
        "  b = mean_pool(sentence2)\r\n",
        "\r\n",
        "  cosine = dot(a, b)/(norm(a)*norm(b))\r\n",
        "\r\n",
        "#normalizing the result to [0 - 1]\r\n",
        "  return (cosine+1)/2\r\n",
        "\r\n",
        "\r\n",
        "#later the estimator will set: >0.94030690002127 as 1 and < as 0"
      ],
      "execution_count": 12,
      "outputs": []
    },
    {
      "cell_type": "code",
      "metadata": {
        "id": "KeyLvAkZkttG"
      },
      "source": [
        "def input_fn(sentences, labels, batch_size=256):\r\n",
        "  \r\n",
        "  dataset = tf.data.Dataset.from_tensor_slices((dict(sentences), labels))\r\n",
        "\r\n",
        "  return dataset.batch(batch_size)"
      ],
      "execution_count": 13,
      "outputs": []
    },
    {
      "cell_type": "code",
      "metadata": {
        "id": "JgC84hH7bAGG"
      },
      "source": [
        "#getting the labels of training set from original data\r\n",
        "label = train.pop('is_duplicate')"
      ],
      "execution_count": 14,
      "outputs": []
    },
    {
      "cell_type": "code",
      "metadata": {
        "id": "wqlM8XsNAscu"
      },
      "source": [
        "#we store all the cosine values of the train data question pairs in a list\r\n",
        "comparisons = []\r\n",
        "for i in range(len(train_question1)):\r\n",
        "  #some lines have only 1 character\r\n",
        "  if len(train_question1[i])==0 or len(train_question2[i])==0:\r\n",
        "    comparisons.append(0.0)\r\n",
        "    continue\r\n",
        "  comparisons.append(compare_cosine(train_question1[i], train_question2[i]))"
      ],
      "execution_count": 15,
      "outputs": []
    },
    {
      "cell_type": "code",
      "metadata": {
        "id": "_3JWlLmtZgi3"
      },
      "source": [
        "df = pd.DataFrame()\r\n",
        "df['cosins'] = comparisons"
      ],
      "execution_count": 16,
      "outputs": []
    },
    {
      "cell_type": "code",
      "metadata": {
        "colab": {
          "base_uri": "https://localhost:8080/"
        },
        "id": "kYPAh1aUgqyW",
        "outputId": "05b8e86e-50a2-471f-a4eb-7ee165ea2adf"
      },
      "source": [
        "my_feature_column = [tf.feature_column.numeric_column(key='cosins')]\r\n",
        "\r\n",
        "classifier = tf.compat.v1.estimator.LinearClassifier(n_classes = 2, feature_columns=my_feature_column)\r\n",
        "\r\n",
        "classifier.train(\r\n",
        "    input_fn=lambda: input_fn(df, label),\r\n",
        "    steps=10000)\r\n"
      ],
      "execution_count": 17,
      "outputs": [
        {
          "output_type": "stream",
          "text": [
            "INFO:tensorflow:Using default config.\n",
            "WARNING:tensorflow:Using temporary folder as model directory: /tmp/tmpwzas2ink\n",
            "INFO:tensorflow:Using config: {'_model_dir': '/tmp/tmpwzas2ink', '_tf_random_seed': None, '_save_summary_steps': 100, '_save_checkpoints_steps': None, '_save_checkpoints_secs': 600, '_session_config': allow_soft_placement: true\n",
            "graph_options {\n",
            "  rewrite_options {\n",
            "    meta_optimizer_iterations: ONE\n",
            "  }\n",
            "}\n",
            ", '_keep_checkpoint_max': 5, '_keep_checkpoint_every_n_hours': 10000, '_log_step_count_steps': 100, '_train_distribute': None, '_device_fn': None, '_protocol': None, '_eval_distribute': None, '_experimental_distribute': None, '_experimental_max_worker_delay_secs': None, '_session_creation_timeout_secs': 7200, '_service': None, '_cluster_spec': ClusterSpec({}), '_task_type': 'worker', '_task_id': 0, '_global_id_in_cluster': 0, '_master': '', '_evaluation_master': '', '_is_chief': True, '_num_ps_replicas': 0, '_num_worker_replicas': 1}\n",
            "WARNING:tensorflow:From /usr/local/lib/python3.6/dist-packages/tensorflow/python/training/training_util.py:236: Variable.initialized_value (from tensorflow.python.ops.variables) is deprecated and will be removed in a future version.\n",
            "Instructions for updating:\n",
            "Use Variable.read_value. Variables in 2.X are initialized automatically both in eager and graph (inside tf.defun) contexts.\n",
            "INFO:tensorflow:Calling model_fn.\n",
            "WARNING:tensorflow:Layer linear_model is casting an input tensor from dtype float64 to the layer's dtype of float32, which is new behavior in TensorFlow 2.  The layer has dtype float32 because its dtype defaults to floatx.\n",
            "\n",
            "If you intended to run this layer in float32, you can safely ignore this warning. If in doubt, this warning is likely only an issue if you are porting a TensorFlow 1.X model to TensorFlow 2.\n",
            "\n",
            "To change all layers to have dtype float64 by default, call `tf.keras.backend.set_floatx('float64')`. To change just this layer, pass dtype='float64' to the layer constructor. If you are the author of this layer, you can disable autocasting by passing autocast=False to the base Layer constructor.\n",
            "\n",
            "WARNING:tensorflow:From /usr/local/lib/python3.6/dist-packages/tensorflow_estimator/python/estimator/canned/linear.py:1481: Layer.add_variable (from tensorflow.python.keras.engine.base_layer_v1) is deprecated and will be removed in a future version.\n",
            "Instructions for updating:\n",
            "Please use `layer.add_weight` method instead.\n",
            "INFO:tensorflow:Done calling model_fn.\n",
            "INFO:tensorflow:Create CheckpointSaverHook.\n",
            "INFO:tensorflow:Graph was finalized.\n",
            "INFO:tensorflow:Running local_init_op.\n",
            "INFO:tensorflow:Done running local_init_op.\n",
            "INFO:tensorflow:Calling checkpoint listeners before saving checkpoint 0...\n",
            "INFO:tensorflow:Saving checkpoints for 0 into /tmp/tmpwzas2ink/model.ckpt.\n",
            "INFO:tensorflow:Calling checkpoint listeners after saving checkpoint 0...\n",
            "INFO:tensorflow:loss = 177.44571, step = 0\n",
            "INFO:tensorflow:global_step/sec: 661.992\n",
            "INFO:tensorflow:loss = 160.15845, step = 100 (0.153 sec)\n",
            "INFO:tensorflow:global_step/sec: 960.525\n",
            "INFO:tensorflow:loss = 170.38109, step = 200 (0.104 sec)\n",
            "INFO:tensorflow:global_step/sec: 902.317\n",
            "INFO:tensorflow:loss = 153.63202, step = 300 (0.113 sec)\n",
            "INFO:tensorflow:global_step/sec: 934.751\n",
            "INFO:tensorflow:loss = 162.70978, step = 400 (0.107 sec)\n",
            "INFO:tensorflow:global_step/sec: 902.663\n",
            "INFO:tensorflow:loss = 167.16092, step = 500 (0.111 sec)\n",
            "INFO:tensorflow:global_step/sec: 941.594\n",
            "INFO:tensorflow:loss = 165.17148, step = 600 (0.103 sec)\n",
            "INFO:tensorflow:global_step/sec: 984.537\n",
            "INFO:tensorflow:loss = 162.84023, step = 700 (0.102 sec)\n",
            "INFO:tensorflow:global_step/sec: 917.165\n",
            "INFO:tensorflow:loss = 159.69449, step = 800 (0.109 sec)\n",
            "INFO:tensorflow:global_step/sec: 953.227\n",
            "INFO:tensorflow:loss = 157.82166, step = 900 (0.107 sec)\n",
            "INFO:tensorflow:global_step/sec: 959.143\n",
            "INFO:tensorflow:loss = 155.34415, step = 1000 (0.105 sec)\n",
            "INFO:tensorflow:global_step/sec: 873.997\n",
            "INFO:tensorflow:loss = 157.25192, step = 1100 (0.114 sec)\n",
            "INFO:tensorflow:global_step/sec: 947.797\n",
            "INFO:tensorflow:loss = 158.48804, step = 1200 (0.106 sec)\n",
            "INFO:tensorflow:global_step/sec: 930.829\n",
            "INFO:tensorflow:loss = 157.81671, step = 1300 (0.105 sec)\n",
            "INFO:tensorflow:global_step/sec: 982.662\n",
            "INFO:tensorflow:loss = 150.333, step = 1400 (0.102 sec)\n",
            "INFO:tensorflow:global_step/sec: 977.661\n",
            "INFO:tensorflow:loss = 151.75818, step = 1500 (0.103 sec)\n",
            "INFO:tensorflow:Calling checkpoint listeners before saving checkpoint 1580...\n",
            "INFO:tensorflow:Saving checkpoints for 1580 into /tmp/tmpwzas2ink/model.ckpt.\n",
            "INFO:tensorflow:Calling checkpoint listeners after saving checkpoint 1580...\n",
            "INFO:tensorflow:Loss for final step: 40.890408.\n"
          ],
          "name": "stdout"
        },
        {
          "output_type": "execute_result",
          "data": {
            "text/plain": [
              "<tensorflow_estimator.python.estimator.canned.linear.LinearClassifier at 0x7f8644ffaf98>"
            ]
          },
          "metadata": {
            "tags": []
          },
          "execution_count": 17
        }
      ]
    },
    {
      "cell_type": "code",
      "metadata": {
        "colab": {
          "base_uri": "https://localhost:8080/"
        },
        "id": "ador4ENQ8WWO",
        "outputId": "aed0bd9b-a081-40d5-e924-b27ec6591a0b"
      },
      "source": [
        "#this is the accuracy on the training dataset\r\n",
        "result = classifier.evaluate(\r\n",
        "    input_fn=lambda: input_fn(df, label))\r\n",
        "\r\n",
        "print(result['accuracy'])"
      ],
      "execution_count": 18,
      "outputs": [
        {
          "output_type": "stream",
          "text": [
            "INFO:tensorflow:Calling model_fn.\n",
            "WARNING:tensorflow:Layer linear_model is casting an input tensor from dtype float64 to the layer's dtype of float32, which is new behavior in TensorFlow 2.  The layer has dtype float32 because its dtype defaults to floatx.\n",
            "\n",
            "If you intended to run this layer in float32, you can safely ignore this warning. If in doubt, this warning is likely only an issue if you are porting a TensorFlow 1.X model to TensorFlow 2.\n",
            "\n",
            "To change all layers to have dtype float64 by default, call `tf.keras.backend.set_floatx('float64')`. To change just this layer, pass dtype='float64' to the layer constructor. If you are the author of this layer, you can disable autocasting by passing autocast=False to the base Layer constructor.\n",
            "\n",
            "WARNING:tensorflow:From /usr/local/lib/python3.6/dist-packages/tensorflow_estimator/python/estimator/canned/head.py:642: auc (from tensorflow.python.ops.metrics_impl) is deprecated and will be removed in a future version.\n",
            "Instructions for updating:\n",
            "The value of AUC returned by this may race with the update so this is deprecated. Please use tf.keras.metrics.AUC instead.\n",
            "WARNING:tensorflow:Trapezoidal rule is known to produce incorrect PR-AUCs; please switch to \"careful_interpolation\" instead.\n",
            "WARNING:tensorflow:Trapezoidal rule is known to produce incorrect PR-AUCs; please switch to \"careful_interpolation\" instead.\n",
            "INFO:tensorflow:Done calling model_fn.\n",
            "INFO:tensorflow:Starting evaluation at 2020-12-16T08:46:03Z\n",
            "INFO:tensorflow:Graph was finalized.\n",
            "INFO:tensorflow:Restoring parameters from /tmp/tmpwzas2ink/model.ckpt-1580\n",
            "INFO:tensorflow:Running local_init_op.\n",
            "INFO:tensorflow:Done running local_init_op.\n",
            "INFO:tensorflow:Inference Time : 3.35097s\n",
            "INFO:tensorflow:Finished evaluation at 2020-12-16-08:46:06\n",
            "INFO:tensorflow:Saving dict for global step 1580: accuracy = 0.63080215, accuracy_baseline = 0.63080215, auc = 0.6970653, auc_precision_recall = 0.49615097, average_loss = 0.61287224, global_step = 1580, label/mean = 0.36919785, loss = 156.8216, precision = 0.0, prediction/mean = 0.34728977, recall = 0.0\n",
            "INFO:tensorflow:Saving 'checkpoint_path' summary for global step 1580: /tmp/tmpwzas2ink/model.ckpt-1580\n",
            "0.63080215\n"
          ],
          "name": "stdout"
        }
      ]
    },
    {
      "cell_type": "code",
      "metadata": {
        "id": "_LekJ1GMxOCn"
      },
      "source": [
        "#in this function you can test it for 2 sentences of your own\r\n",
        "def try_equal(sentence1, sentence2):\r\n",
        "  \r\n",
        "  predict = {}\r\n",
        "  predict['cosins'] = [compare_cosine(sentence1, sentence2)]\r\n",
        "\r\n",
        "  def input_fn(features, batch_size=256):\r\n",
        "      # Convert the inputs to a Dataset without labels.\r\n",
        "      return tf.data.Dataset.from_tensor_slices(dict(features)).batch(batch_size)\r\n",
        "\r\n",
        "  predictions = classifier.predict(input_fn=lambda: input_fn(predict))\r\n",
        "  for pred_dict in predictions:\r\n",
        "      class_id = pred_dict['class_ids'][0]\r\n",
        "      probability = pred_dict['probabilities'][class_id]\r\n",
        "\r\n",
        "      print(pred_dict['probabilities'][0], '% equivalence probability')\r\n",
        "    "
      ],
      "execution_count": 19,
      "outputs": []
    },
    {
      "cell_type": "markdown",
      "metadata": {
        "id": "d6Vrlftxsp2i"
      },
      "source": [
        "From now on, it's just another estimator with sklearn."
      ]
    },
    {
      "cell_type": "code",
      "metadata": {
        "id": "YQP4qiiYNQ7I"
      },
      "source": [
        "from sklearn.datasets import make_classification\r\n",
        "from sklearn.linear_model import LogisticRegression\r\n",
        "from sklearn.model_selection import train_test_split\r\n",
        "from sklearn.metrics import confusion_matrix\r\n",
        "from matplotlib import pyplot as plt\r\n",
        "from sklearn import metrics"
      ],
      "execution_count": 20,
      "outputs": []
    },
    {
      "cell_type": "code",
      "metadata": {
        "colab": {
          "base_uri": "https://localhost:8080/"
        },
        "id": "MxfF_aiaOxrx",
        "outputId": "554ca992-bc42-4bba-8bea-506719622989"
      },
      "source": [
        "x_own = np.array(comparisons)\r\n",
        "x_own = x_own.reshape(-1,1)\r\n",
        "x_own.shape"
      ],
      "execution_count": 21,
      "outputs": [
        {
          "output_type": "execute_result",
          "data": {
            "text/plain": [
              "(404290, 1)"
            ]
          },
          "metadata": {
            "tags": []
          },
          "execution_count": 21
        }
      ]
    },
    {
      "cell_type": "code",
      "metadata": {
        "colab": {
          "base_uri": "https://localhost:8080/"
        },
        "id": "EqhX8XXUL73R",
        "outputId": "271849a6-1a0c-40e2-ddf2-0fac4cf4d3a8"
      },
      "source": [
        "y_own = np.array(label.values.tolist())\r\n",
        "print(y_own.shape)"
      ],
      "execution_count": 22,
      "outputs": [
        {
          "output_type": "stream",
          "text": [
            "(404290,)\n"
          ],
          "name": "stdout"
        }
      ]
    },
    {
      "cell_type": "code",
      "metadata": {
        "id": "2C_oMH2pP81I"
      },
      "source": [
        "x_train, x_test, y_train, y_test = train_test_split(x_own, y_own, random_state=1)"
      ],
      "execution_count": 23,
      "outputs": []
    },
    {
      "cell_type": "code",
      "metadata": {
        "colab": {
          "base_uri": "https://localhost:8080/"
        },
        "id": "FvA9nk4-Qsb4",
        "outputId": "e8240ae8-78d1-4a41-8b02-8454010e9196"
      },
      "source": [
        "log_reg = LogisticRegression()\r\n",
        "log_reg.fit(x_train, y_train)"
      ],
      "execution_count": 24,
      "outputs": [
        {
          "output_type": "execute_result",
          "data": {
            "text/plain": [
              "LogisticRegression(C=1.0, class_weight=None, dual=False, fit_intercept=True,\n",
              "                   intercept_scaling=1, l1_ratio=None, max_iter=100,\n",
              "                   multi_class='auto', n_jobs=None, penalty='l2',\n",
              "                   random_state=None, solver='lbfgs', tol=0.0001, verbose=0,\n",
              "                   warm_start=False)"
            ]
          },
          "metadata": {
            "tags": []
          },
          "execution_count": 24
        }
      ]
    },
    {
      "cell_type": "code",
      "metadata": {
        "id": "foxqjKNbRD93"
      },
      "source": [
        "y_pred = log_reg.predict(x_test)"
      ],
      "execution_count": 25,
      "outputs": []
    },
    {
      "cell_type": "code",
      "metadata": {
        "colab": {
          "base_uri": "https://localhost:8080/"
        },
        "id": "KywiecXfRW84",
        "outputId": "565cec14-0f9e-4ef4-c95d-d0d304987796"
      },
      "source": [
        "confusion_matrix(y_test, y_pred)"
      ],
      "execution_count": 26,
      "outputs": [
        {
          "output_type": "execute_result",
          "data": {
            "text/plain": [
              "array([[51097, 12640],\n",
              "       [22814, 14522]])"
            ]
          },
          "metadata": {
            "tags": []
          },
          "execution_count": 26
        }
      ]
    },
    {
      "cell_type": "code",
      "metadata": {
        "colab": {
          "base_uri": "https://localhost:8080/"
        },
        "id": "6igsyC28vDTK",
        "outputId": "0b588be2-3708-4977-9807-ebd1ebfce7d1"
      },
      "source": [
        "#accuracy (tp+tn)/(tp+tn+fp+fn)\r\n",
        "(confusion_matrix(y_test, y_pred)[0][0]+confusion_matrix(y_test, y_pred)[1][1])/(confusion_matrix(y_test, y_pred)[0][0]+confusion_matrix(y_test, y_pred)[0][1]+confusion_matrix(y_test, y_pred)[1][0]+confusion_matrix(y_test, y_pred)[1][1])"
      ],
      "execution_count": 29,
      "outputs": [
        {
          "output_type": "execute_result",
          "data": {
            "text/plain": [
              "0.6492238283221038"
            ]
          },
          "metadata": {
            "tags": []
          },
          "execution_count": 29
        }
      ]
    },
    {
      "cell_type": "code",
      "metadata": {
        "colab": {
          "base_uri": "https://localhost:8080/",
          "height": 265
        },
        "id": "mDRBYWZ0VZrn",
        "outputId": "b593e987-09bc-47f7-e3fb-30c9623ff355"
      },
      "source": [
        "#here auc can be another measure how useful our prediction is\r\n",
        "#note: 1 = 100% accurate,  0.5 = useless\r\n",
        "y_pred_proba = log_reg.predict_proba(x_test)[::,1]\r\n",
        "fpr, tpr, _ = metrics.roc_curve(y_test,  y_pred_proba)\r\n",
        "auc = metrics.roc_auc_score(y_test, y_pred_proba)\r\n",
        "plt.plot(fpr,tpr,label=\"data 1, auc=\"+str(auc))\r\n",
        "plt.legend(loc=4)\r\n",
        "plt.show()"
      ],
      "execution_count": 31,
      "outputs": [
        {
          "output_type": "display_data",
          "data": {
            "image/png": "[encoded data removed]",
            "text/plain": [
              "<Figure size 432x288 with 1 Axes>"
            ]
          },
          "metadata": {
            "tags": [],
            "needs_background": "light"
          }
        }
      ]
    }
  ]
}