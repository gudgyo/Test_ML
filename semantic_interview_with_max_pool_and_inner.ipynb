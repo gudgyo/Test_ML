{
  "nbformat": 4,
  "nbformat_minor": 0,
  "metadata": {
    "colab": {
      "name": "semantic_interview.ipynb",
      "provenance": [],
      "collapsed_sections": [],
      "mount_file_id": "1V50Qq9Mkfc9VmRU9dAjCLOz8hmqBviA-",
      "authorship_tag": "ABX9TyMw93q6IxRncgCFxcc44nRA",
      "include_colab_link": true
    },
    "kernelspec": {
      "name": "python3",
      "display_name": "Python 3"
    }
  },
  "cells": [
    {
      "cell_type": "markdown",
      "metadata": {
        "id": "view-in-github",
        "colab_type": "text"
      },
      "source": [
        "<a href=\"https://colab.research.google.com/github/gudgyo/Test_ML/blob/main/semantic_interview_with_max_pool_and_inner.ipynb\" target=\"_parent\"><img src=\"https://colab.research.google.com/assets/colab-badge.svg\" alt=\"Open In Colab\"/></a>"
      ]
    },
    {
      "cell_type": "code",
      "metadata": {
        "id": "jLhsG6lFj94y",
        "colab": {
          "base_uri": "https://localhost:8080/"
        },
        "outputId": "dc68b6ac-d018-40d3-af05-9d55ac140c29"
      },
      "source": [
        "%tensorflow_version 2.x #because of notebook\r\n",
        "!pip install gensim\r\n",
        "!pip install nltk"
      ],
      "execution_count": 1,
      "outputs": [
        {
          "output_type": "stream",
          "text": [
            "`%tensorflow_version` only switches the major version: 1.x or 2.x.\n",
            "You set: `2.x #because of notebook`. This will be interpreted as: `2.x`.\n",
            "\n",
            "\n",
            "TensorFlow 2.x selected.\n",
            "Requirement already satisfied: gensim in /usr/local/lib/python3.6/dist-packages (3.6.0)\n",
            "Requirement already satisfied: smart-open>=1.2.1 in /usr/local/lib/python3.6/dist-packages (from gensim) (4.0.1)\n",
            "Requirement already satisfied: scipy>=0.18.1 in /usr/local/lib/python3.6/dist-packages (from gensim) (1.4.1)\n",
            "Requirement already satisfied: numpy>=1.11.3 in /usr/local/lib/python3.6/dist-packages (from gensim) (1.18.5)\n",
            "Requirement already satisfied: six>=1.5.0 in /usr/local/lib/python3.6/dist-packages (from gensim) (1.15.0)\n",
            "Requirement already satisfied: nltk in /usr/local/lib/python3.6/dist-packages (3.2.5)\n",
            "Requirement already satisfied: six in /usr/local/lib/python3.6/dist-packages (from nltk) (1.15.0)\n"
          ],
          "name": "stdout"
        }
      ]
    },
    {
      "cell_type": "code",
      "metadata": {
        "id": "MIP2jIuskAAV",
        "colab": {
          "base_uri": "https://localhost:8080/"
        },
        "outputId": "c6919dee-8ff0-4c59-f053-2202ebd0f6fe"
      },
      "source": [
        "import tensorflow as tf\r\n",
        "import pandas as pd\r\n",
        "import numpy as np\r\n",
        "from numpy import dot\r\n",
        "from numpy.linalg import norm\r\n",
        "import re\r\n",
        "import nltk\r\n",
        "from keras.preprocessing.text import Tokenizer\r\n",
        "from nltk.stem import WordNetLemmatizer\r\n",
        "import numpy as np\r\n",
        "\r\n",
        "from gensim.models.wrappers import FastText\r\n",
        "from gensim.models import Word2Vec, KeyedVectors\r\n",
        "\r\n",
        "from sklearn.metrics.pairwise import cosine_similarity\r\n",
        "\r\n",
        "nltk.download('punkt')"
      ],
      "execution_count": 2,
      "outputs": [
        {
          "output_type": "stream",
          "text": [
            "[nltk_data] Downloading package punkt to /root/nltk_data...\n",
            "[nltk_data]   Unzipping tokenizers/punkt.zip.\n"
          ],
          "name": "stdout"
        },
        {
          "output_type": "execute_result",
          "data": {
            "text/plain": [
              "True"
            ]
          },
          "metadata": {
            "tags": []
          },
          "execution_count": 2
        }
      ]
    },
    {
      "cell_type": "code",
      "metadata": {
        "id": "jbJ6kXwrskbN"
      },
      "source": [
        "#dataset into pandas dataframe\r\n",
        "train = pd.read_csv(\"https://drive.google.com/uc?export=download&id=1ksEJ5lodwquCoQ5AcnijNs6ndof276_Z\")"
      ],
      "execution_count": 4,
      "outputs": []
    },
    {
      "cell_type": "code",
      "metadata": {
        "id": "YbgdGfpCH2Lm"
      },
      "source": [
        "def preprocess(sentence):\r\n",
        "  #remove special characters\r\n",
        "  sentence = re.sub(r'\\W', ' ',str(sentence))\r\n",
        "  #converting to lower case\r\n",
        "  sentence = sentence.lower()\r\n",
        "  #switching multiple spaces with single\r\n",
        "  sentence = re.sub(' +', ' ',sentence)\r\n",
        "  #removes space from end\r\n",
        "  sentence = re.sub(' $', '', sentence)\r\n",
        "\r\n",
        "  return sentence"
      ],
      "execution_count": 5,
      "outputs": []
    },
    {
      "cell_type": "code",
      "metadata": {
        "id": "t9T8ob--Pz39"
      },
      "source": [
        "train_question1 = [preprocess(sent) for sent in train['question1']]\r\n",
        "train_question2 = [preprocess(sent) for sent in train['question2']]\r\n",
        "train_input = train_question1 + train_question2"
      ],
      "execution_count": 6,
      "outputs": []
    },
    {
      "cell_type": "code",
      "metadata": {
        "id": "UPHysnnGVWAu"
      },
      "source": [
        "train_vec = [nltk.word_tokenize(sent) for sent in train_input]"
      ],
      "execution_count": 7,
      "outputs": []
    },
    {
      "cell_type": "code",
      "metadata": {
        "id": "5YgJITYr5ZpV"
      },
      "source": [
        "window_size = 9\r\n",
        "min = 1\r\n",
        "model_size=100"
      ],
      "execution_count": 8,
      "outputs": []
    },
    {
      "cell_type": "code",
      "metadata": {
        "id": "bASrxcMOU-ad"
      },
      "source": [
        "model = Word2Vec(train_vec, window=window_size, min_count=min, size=model_size)"
      ],
      "execution_count": 9,
      "outputs": []
    },
    {
      "cell_type": "code",
      "metadata": {
        "id": "lUtOCMX7nTG9"
      },
      "source": [
        "#gives the mean of a single input sentence\r\n",
        "def mean_pool(sentence):\r\n",
        "  sentence = preprocess(sentence).split(' ')\r\n",
        "\r\n",
        "  #same as model size parameter\r\n",
        "  sentence_mean = [0]*model_size\r\n",
        "\r\n",
        "  for word in sentence:\r\n",
        "    #avoid word not in vocab error\r\n",
        "    if word in model.wv.vocab:\r\n",
        "      sentence_mean += model.wv[word] \r\n",
        "  sentence_mean /= len(sentence)\r\n",
        "\r\n",
        "  return sentence_mean"
      ],
      "execution_count": 10,
      "outputs": []
    },
    {
      "cell_type": "code",
      "metadata": {
        "id": "vOYdtCQ4z3Ni"
      },
      "source": [
        "def max_pool(sentence):\r\n",
        "  sentence = preprocess(sentence).split(' ')\r\n",
        "\r\n",
        "  #same as model size parameter\r\n",
        "  sentence_max = [-10000]*model_size\r\n",
        "\r\n",
        "  for word in sentence:\r\n",
        "    #avoid word not in vocab error\r\n",
        "    if word in model.wv.vocab:\r\n",
        "      \r\n",
        "      for i in range(model_size):\r\n",
        "        if model.wv[word][i] > sentence_max[i]:\r\n",
        "          sentence_max[i] = model.wv[word][i]\r\n",
        "\r\n",
        "  return np.array(sentence_max)"
      ],
      "execution_count": 68,
      "outputs": []
    },
    {
      "cell_type": "code",
      "metadata": {
        "id": "prq7VmSy4hwV"
      },
      "source": [
        "#inner product\r\n",
        "def compare_inner(sentence1, sentence2):\r\n",
        "  sentence1 = max_pool(sentence1)\r\n",
        "  sentence2 = max_pool(sentence2)\r\n",
        "\r\n",
        "  return np.inner(sentence1, sentence2)"
      ],
      "execution_count": 57,
      "outputs": []
    },
    {
      "cell_type": "code",
      "metadata": {
        "id": "J6JVlvCw-rQV"
      },
      "source": [
        "#cosine similarity\r\n",
        "def compare_cosine(sentence1, sentence2):\r\n",
        "  a = mean_pool(sentence1)\r\n",
        "  b = mean_pool(sentence2)\r\n",
        "\r\n",
        "  cosine = dot(a, b)/(norm(a)*norm(b))\r\n",
        "\r\n",
        "#normalizing the result to [0 - 1]\r\n",
        "  return (cosine+1)/2\r\n",
        "\r\n",
        "\r\n",
        "#later the estimator will set: >0.94030690002127 as 1 and < as 0"
      ],
      "execution_count": 12,
      "outputs": []
    },
    {
      "cell_type": "code",
      "metadata": {
        "id": "KeyLvAkZkttG"
      },
      "source": [
        "def input_fn(sentences, labels, batch_size=256):\r\n",
        "  \r\n",
        "  dataset = tf.data.Dataset.from_tensor_slices((dict(sentences), labels))\r\n",
        "\r\n",
        "  return dataset.batch(batch_size)"
      ],
      "execution_count": 55,
      "outputs": []
    },
    {
      "cell_type": "code",
      "metadata": {
        "id": "JgC84hH7bAGG"
      },
      "source": [
        "#getting the labels of training set from original data\r\n",
        "label = train.pop('is_duplicate')"
      ],
      "execution_count": null,
      "outputs": []
    },
    {
      "cell_type": "code",
      "metadata": {
        "id": "wqlM8XsNAscu"
      },
      "source": [
        "\r\n",
        "#we store all the cosine values of the train data question pairs in a list\r\n",
        "comparisons = []\r\n",
        "for i in range(len(train_question1)):\r\n",
        "  #some lines have only 1 character\r\n",
        "  if len(train_question1[i])==0 or len(train_question2[i])==0:\r\n",
        "    comparisons.append(0.0)\r\n",
        "    continue\r\n",
        "  comparisons.append(compare_inner(train_question1[i], train_question2[i]))"
      ],
      "execution_count": null,
      "outputs": []
    },
    {
      "cell_type": "code",
      "metadata": {
        "id": "_3JWlLmtZgi3"
      },
      "source": [
        "df = pd.DataFrame()\r\n",
        "df['cosins'] = comparisons"
      ],
      "execution_count": 35,
      "outputs": []
    },
    {
      "cell_type": "code",
      "metadata": {
        "colab": {
          "base_uri": "https://localhost:8080/"
        },
        "id": "kYPAh1aUgqyW",
        "outputId": "52ab7669-cf6f-4a7e-aab8-240c10282894"
      },
      "source": [
        "my_feature_column = [tf.feature_column.numeric_column(key='cosins')]\r\n",
        "\r\n",
        "classifier = tf.compat.v1.estimator.LinearClassifier(n_classes = 2, feature_columns=my_feature_column)\r\n",
        "\r\n",
        "classifier.train(\r\n",
        "    input_fn=lambda: input_fn(df, label),\r\n",
        "    steps=10000)\r\n"
      ],
      "execution_count": 36,
      "outputs": [
        {
          "output_type": "stream",
          "text": [
            "INFO:tensorflow:Using default config.\n",
            "WARNING:tensorflow:Using temporary folder as model directory: /tmp/tmpmqlcvut_\n",
            "INFO:tensorflow:Using config: {'_model_dir': '/tmp/tmpmqlcvut_', '_tf_random_seed': None, '_save_summary_steps': 100, '_save_checkpoints_steps': None, '_save_checkpoints_secs': 600, '_session_config': allow_soft_placement: true\n",
            "graph_options {\n",
            "  rewrite_options {\n",
            "    meta_optimizer_iterations: ONE\n",
            "  }\n",
            "}\n",
            ", '_keep_checkpoint_max': 5, '_keep_checkpoint_every_n_hours': 10000, '_log_step_count_steps': 100, '_train_distribute': None, '_device_fn': None, '_protocol': None, '_eval_distribute': None, '_experimental_distribute': None, '_experimental_max_worker_delay_secs': None, '_session_creation_timeout_secs': 7200, '_service': None, '_cluster_spec': ClusterSpec({}), '_task_type': 'worker', '_task_id': 0, '_global_id_in_cluster': 0, '_master': '', '_evaluation_master': '', '_is_chief': True, '_num_ps_replicas': 0, '_num_worker_replicas': 1}\n",
            "INFO:tensorflow:Calling model_fn.\n",
            "WARNING:tensorflow:Layer linear_model is casting an input tensor from dtype float64 to the layer's dtype of float32, which is new behavior in TensorFlow 2.  The layer has dtype float32 because its dtype defaults to floatx.\n",
            "\n",
            "If you intended to run this layer in float32, you can safely ignore this warning. If in doubt, this warning is likely only an issue if you are porting a TensorFlow 1.X model to TensorFlow 2.\n",
            "\n",
            "To change all layers to have dtype float64 by default, call `tf.keras.backend.set_floatx('float64')`. To change just this layer, pass dtype='float64' to the layer constructor. If you are the author of this layer, you can disable autocasting by passing autocast=False to the base Layer constructor.\n",
            "\n",
            "INFO:tensorflow:Done calling model_fn.\n",
            "INFO:tensorflow:Create CheckpointSaverHook.\n",
            "INFO:tensorflow:Graph was finalized.\n",
            "INFO:tensorflow:Running local_init_op.\n",
            "INFO:tensorflow:Done running local_init_op.\n",
            "INFO:tensorflow:Calling checkpoint listeners before saving checkpoint 0...\n",
            "INFO:tensorflow:Saving checkpoints for 0 into /tmp/tmpmqlcvut_/model.ckpt.\n",
            "INFO:tensorflow:Calling checkpoint listeners after saving checkpoint 0...\n",
            "INFO:tensorflow:loss = 177.44571, step = 0\n",
            "INFO:tensorflow:global_step/sec: 719.961\n",
            "INFO:tensorflow:loss = 150.6802, step = 100 (0.140 sec)\n",
            "INFO:tensorflow:global_step/sec: 964.492\n",
            "INFO:tensorflow:loss = 156.06328, step = 200 (0.104 sec)\n",
            "INFO:tensorflow:global_step/sec: 933.223\n",
            "INFO:tensorflow:loss = 134.62987, step = 300 (0.110 sec)\n",
            "INFO:tensorflow:global_step/sec: 955.57\n",
            "INFO:tensorflow:loss = 155.5865, step = 400 (0.103 sec)\n",
            "INFO:tensorflow:global_step/sec: 924.458\n",
            "INFO:tensorflow:loss = 155.39386, step = 500 (0.108 sec)\n",
            "INFO:tensorflow:global_step/sec: 925.017\n",
            "INFO:tensorflow:loss = 147.70676, step = 600 (0.107 sec)\n",
            "INFO:tensorflow:global_step/sec: 956.185\n",
            "INFO:tensorflow:loss = 155.24371, step = 700 (0.105 sec)\n",
            "INFO:tensorflow:global_step/sec: 963.579\n",
            "INFO:tensorflow:loss = 148.7142, step = 800 (0.104 sec)\n",
            "INFO:tensorflow:global_step/sec: 975.969\n",
            "INFO:tensorflow:loss = 160.26622, step = 900 (0.102 sec)\n",
            "INFO:tensorflow:global_step/sec: 883.281\n",
            "INFO:tensorflow:loss = 153.78967, step = 1000 (0.114 sec)\n",
            "INFO:tensorflow:global_step/sec: 977.99\n",
            "INFO:tensorflow:loss = 152.64876, step = 1100 (0.102 sec)\n",
            "INFO:tensorflow:global_step/sec: 948.172\n",
            "INFO:tensorflow:loss = 147.85995, step = 1200 (0.109 sec)\n",
            "INFO:tensorflow:global_step/sec: 943.8\n",
            "INFO:tensorflow:loss = 152.514, step = 1300 (0.105 sec)\n",
            "INFO:tensorflow:global_step/sec: 965.717\n",
            "INFO:tensorflow:loss = 138.55164, step = 1400 (0.103 sec)\n",
            "INFO:tensorflow:global_step/sec: 891.122\n",
            "INFO:tensorflow:loss = 151.89778, step = 1500 (0.111 sec)\n",
            "INFO:tensorflow:Calling checkpoint listeners before saving checkpoint 1580...\n",
            "INFO:tensorflow:Saving checkpoints for 1580 into /tmp/tmpmqlcvut_/model.ckpt.\n",
            "INFO:tensorflow:Calling checkpoint listeners after saving checkpoint 1580...\n",
            "INFO:tensorflow:Loss for final step: 40.890697.\n"
          ],
          "name": "stdout"
        },
        {
          "output_type": "execute_result",
          "data": {
            "text/plain": [
              "<tensorflow_estimator.python.estimator.canned.linear.LinearClassifier at 0x7f863227cbe0>"
            ]
          },
          "metadata": {
            "tags": []
          },
          "execution_count": 36
        }
      ]
    },
    {
      "cell_type": "code",
      "metadata": {
        "colab": {
          "base_uri": "https://localhost:8080/"
        },
        "id": "ador4ENQ8WWO",
        "outputId": "8c0c7f75-0bdc-41d5-841c-81680055efe3"
      },
      "source": [
        "#this is the accuracy on the training dataset\r\n",
        "result = classifier.evaluate(\r\n",
        "    input_fn=lambda: input_fn(df, label))\r\n",
        "\r\n",
        "print(result['accuracy'])"
      ],
      "execution_count": 38,
      "outputs": [
        {
          "output_type": "stream",
          "text": [
            "INFO:tensorflow:Calling model_fn.\n",
            "WARNING:tensorflow:Layer linear_model is casting an input tensor from dtype float64 to the layer's dtype of float32, which is new behavior in TensorFlow 2.  The layer has dtype float32 because its dtype defaults to floatx.\n",
            "\n",
            "If you intended to run this layer in float32, you can safely ignore this warning. If in doubt, this warning is likely only an issue if you are porting a TensorFlow 1.X model to TensorFlow 2.\n",
            "\n",
            "To change all layers to have dtype float64 by default, call `tf.keras.backend.set_floatx('float64')`. To change just this layer, pass dtype='float64' to the layer constructor. If you are the author of this layer, you can disable autocasting by passing autocast=False to the base Layer constructor.\n",
            "\n",
            "WARNING:tensorflow:Trapezoidal rule is known to produce incorrect PR-AUCs; please switch to \"careful_interpolation\" instead.\n",
            "WARNING:tensorflow:Trapezoidal rule is known to produce incorrect PR-AUCs; please switch to \"careful_interpolation\" instead.\n",
            "INFO:tensorflow:Done calling model_fn.\n",
            "INFO:tensorflow:Starting evaluation at 2020-12-16T09:06:51Z\n",
            "INFO:tensorflow:Graph was finalized.\n",
            "INFO:tensorflow:Restoring parameters from /tmp/tmpmqlcvut_/model.ckpt-1580\n",
            "INFO:tensorflow:Running local_init_op.\n",
            "INFO:tensorflow:Done running local_init_op.\n",
            "INFO:tensorflow:Inference Time : 3.27168s\n",
            "INFO:tensorflow:Finished evaluation at 2020-12-16-09:06:54\n",
            "INFO:tensorflow:Saving dict for global step 1580: accuracy = 0.6685448, accuracy_baseline = 0.63080215, auc = 0.73864454, auc_precision_recall = 0.575316, average_loss = 0.58738357, global_step = 1580, label/mean = 0.36919785, loss = 150.29956, precision = 0.6198646, prediction/mean = 0.3284, recall = 0.2643321\n",
            "INFO:tensorflow:Saving 'checkpoint_path' summary for global step 1580: /tmp/tmpmqlcvut_/model.ckpt-1580\n",
            "0.6685448\n"
          ],
          "name": "stdout"
        }
      ]
    },
    {
      "cell_type": "code",
      "metadata": {
        "id": "_LekJ1GMxOCn"
      },
      "source": [
        "#in this function you can test it for 2 sentences of your own\r\n",
        "def try_equal(sentence1, sentence2):\r\n",
        "  \r\n",
        "  predict = {}\r\n",
        "  predict['cosins'] = [compare_cosine(sentence1, sentence2)]\r\n",
        "\r\n",
        "  def input_fn(features, batch_size=256):\r\n",
        "      # Convert the inputs to a Dataset without labels.\r\n",
        "      return tf.data.Dataset.from_tensor_slices(dict(features)).batch(batch_size)\r\n",
        "\r\n",
        "  predictions = classifier.predict(input_fn=lambda: input_fn(predict))\r\n",
        "  for pred_dict in predictions:\r\n",
        "      class_id = pred_dict['class_ids'][0]\r\n",
        "      probability = pred_dict['probabilities'][class_id]\r\n",
        "\r\n",
        "      print(pred_dict['probabilities'][0], '% equivalence probability')\r\n",
        "    "
      ],
      "execution_count": 39,
      "outputs": []
    },
    {
      "cell_type": "markdown",
      "metadata": {
        "id": "d6Vrlftxsp2i"
      },
      "source": [
        "From now on, it's just another estimator with sklearn."
      ]
    },
    {
      "cell_type": "code",
      "metadata": {
        "id": "YQP4qiiYNQ7I"
      },
      "source": [
        "from sklearn.datasets import make_classification\r\n",
        "from sklearn.linear_model import LogisticRegression\r\n",
        "from sklearn.model_selection import train_test_split\r\n",
        "from sklearn.metrics import confusion_matrix\r\n",
        "from matplotlib import pyplot as plt\r\n",
        "from sklearn import metrics"
      ],
      "execution_count": 40,
      "outputs": []
    },
    {
      "cell_type": "code",
      "metadata": {
        "colab": {
          "base_uri": "https://localhost:8080/"
        },
        "id": "MxfF_aiaOxrx",
        "outputId": "b9632bed-463a-4073-af89-d25af8325ab3"
      },
      "source": [
        "x_own = np.array(comparisons)\r\n",
        "x_own = x_own.reshape(-1,1)\r\n",
        "x_own.shape"
      ],
      "execution_count": 41,
      "outputs": [
        {
          "output_type": "execute_result",
          "data": {
            "text/plain": [
              "(404290, 1)"
            ]
          },
          "metadata": {
            "tags": []
          },
          "execution_count": 41
        }
      ]
    },
    {
      "cell_type": "code",
      "metadata": {
        "colab": {
          "base_uri": "https://localhost:8080/"
        },
        "id": "EqhX8XXUL73R",
        "outputId": "254a4155-ef01-4178-d0b1-bfa57b1e9bce"
      },
      "source": [
        "y_own = np.array(label.values.tolist())\r\n",
        "print(y_own.shape)"
      ],
      "execution_count": 42,
      "outputs": [
        {
          "output_type": "stream",
          "text": [
            "(404290,)\n"
          ],
          "name": "stdout"
        }
      ]
    },
    {
      "cell_type": "code",
      "metadata": {
        "id": "2C_oMH2pP81I"
      },
      "source": [
        "x_train, x_test, y_train, y_test = train_test_split(x_own, y_own, random_state=1)"
      ],
      "execution_count": 43,
      "outputs": []
    },
    {
      "cell_type": "code",
      "metadata": {
        "colab": {
          "base_uri": "https://localhost:8080/"
        },
        "id": "FvA9nk4-Qsb4",
        "outputId": "0128b3c3-7503-434a-80ce-fb2bc9f0469c"
      },
      "source": [
        "log_reg = LogisticRegression()\r\n",
        "log_reg.fit(x_train, y_train)"
      ],
      "execution_count": 44,
      "outputs": [
        {
          "output_type": "execute_result",
          "data": {
            "text/plain": [
              "LogisticRegression(C=1.0, class_weight=None, dual=False, fit_intercept=True,\n",
              "                   intercept_scaling=1, l1_ratio=None, max_iter=100,\n",
              "                   multi_class='auto', n_jobs=None, penalty='l2',\n",
              "                   random_state=None, solver='lbfgs', tol=0.0001, verbose=0,\n",
              "                   warm_start=False)"
            ]
          },
          "metadata": {
            "tags": []
          },
          "execution_count": 44
        }
      ]
    },
    {
      "cell_type": "code",
      "metadata": {
        "id": "foxqjKNbRD93"
      },
      "source": [
        "y_pred = log_reg.predict(x_test)"
      ],
      "execution_count": 45,
      "outputs": []
    },
    {
      "cell_type": "code",
      "metadata": {
        "colab": {
          "base_uri": "https://localhost:8080/"
        },
        "id": "KywiecXfRW84",
        "outputId": "e9e69dde-39ad-4067-83b7-ecc17116dcc2"
      },
      "source": [
        "confusion_matrix(y_test, y_pred)"
      ],
      "execution_count": 46,
      "outputs": [
        {
          "output_type": "execute_result",
          "data": {
            "text/plain": [
              "array([[54560,  9177],\n",
              "       [23339, 13997]])"
            ]
          },
          "metadata": {
            "tags": []
          },
          "execution_count": 46
        }
      ]
    },
    {
      "cell_type": "code",
      "metadata": {
        "colab": {
          "base_uri": "https://localhost:8080/"
        },
        "id": "6igsyC28vDTK",
        "outputId": "b13078e1-7263-4008-863f-3b7566564855"
      },
      "source": [
        "#accuracy (tp+tn)/(tp+tn+fp+fn)\r\n",
        "(confusion_matrix(y_test, y_pred)[0][0]+confusion_matrix(y_test, y_pred)[1][1])/(confusion_matrix(y_test, y_pred)[0][0]+confusion_matrix(y_test, y_pred)[0][1]+confusion_matrix(y_test, y_pred)[1][0]+confusion_matrix(y_test, y_pred)[1][1])"
      ],
      "execution_count": 47,
      "outputs": [
        {
          "output_type": "execute_result",
          "data": {
            "text/plain": [
              "0.6782919276166731"
            ]
          },
          "metadata": {
            "tags": []
          },
          "execution_count": 47
        }
      ]
    },
    {
      "cell_type": "code",
      "metadata": {
        "colab": {
          "base_uri": "https://localhost:8080/",
          "height": 265
        },
        "id": "mDRBYWZ0VZrn",
        "outputId": "19a6661a-1d7b-4f11-8293-90333b514bde"
      },
      "source": [
        "#here auc can be another measure how useful our prediction is\r\n",
        "#note: 1 = 100% accurate,  0.5 = useless\r\n",
        "y_pred_proba = log_reg.predict_proba(x_test)[::,1]\r\n",
        "fpr, tpr, _ = metrics.roc_curve(y_test,  y_pred_proba)\r\n",
        "auc = metrics.roc_auc_score(y_test, y_pred_proba)\r\n",
        "plt.plot(fpr,tpr,label=\"data 1, auc=\"+str(auc))\r\n",
        "plt.legend(loc=4)\r\n",
        "plt.show()"
      ],
      "execution_count": 48,
      "outputs": [
        {
          "output_type": "display_data",
          "data": {
            "image/png": "[encoded data removed]",
            "text/plain": [
              "<Figure size 432x288 with 1 Axes>"
            ]
          },
          "metadata": {
            "tags": [],
            "needs_background": "light"
          }
        }
      ]
    }
  ]
}